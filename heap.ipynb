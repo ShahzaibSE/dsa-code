{
 "cells": [
  {
   "cell_type": "code",
   "execution_count": 12,
   "id": "be0b1ae2",
   "metadata": {},
   "outputs": [],
   "source": [
    "from typing import List, Any"
   ]
  },
  {
   "cell_type": "markdown",
   "id": "35407858",
   "metadata": {},
   "source": [
    "# 🧠 Understanding Heap in Data Structures\n",
    "\n",
    "---\n",
    "\n",
    "## 📌 What is a Heap?\n",
    "\n",
    "A **Heap** is a special complete binary tree-based data structure that satisfies the **heap property**:\n",
    "- **Complete Binary Tree**: All levels are completely filled except possibly the last, which is filled from left to right.\n",
    "\n",
    "---\n",
    "\n",
    "## 🔀 Types of Heap\n",
    "\n",
    "### ✅ 1. Min-Heap\n",
    "- The **parent node is smaller than or equal to its children**.\n",
    "- The **smallest** element is at the **root**.\n",
    "- Used in **priority queues**, **Dijkstra’s algorithm**, etc.\n",
    "\n",
    "### ✅ 2. Max-Heap\n",
    "- The **parent node is greater than or equal to its children**.\n",
    "- The **largest** element is at the **root**.\n",
    "- Used in **heap sort**, **implementing max-priority queues**, etc.\n",
    "\n",
    "---\n",
    "\n",
    "## ⚙️ Heap Properties\n",
    "\n",
    "Given an array-based representation of a heap:\n",
    "- For an element at index `i`:\n",
    "  - **Left Child** → `2*i + 1`\n",
    "  - **Right Child** → `2*i + 2`\n",
    "  - **Parent** → `(i - 1) // 2`\n",
    "\n"
   ]
  },
  {
   "cell_type": "markdown",
   "id": "b4c39c51",
   "metadata": {},
   "source": [
    "### We're working with Min-Heap."
   ]
  },
  {
   "cell_type": "markdown",
   "id": "8c8fced1",
   "metadata": {},
   "source": [
    "\n",
    "# 📚 `heapq` Operations — Time and Space Complexity\n",
    "\n",
    "This reference documents the most commonly used operations from Python’s `heapq` module, along with their time and space complexities.\n",
    "\n",
    "| Operation                          | Method                               | Time Complexity | Space Complexity | Notes |\n",
    "|-----------------------------------|--------------------------------------|------------------|------------------|-------|\n",
    "| **Convert list to heap**          | `heapq.heapify(iterable)`            | `O(n)`           | `O(1)`           | Bottom-up heapify (Floyd’s method) |\n",
    "| **Insert element**                | `heapq.heappush(heap, item)`         | `O(log n)`       | `O(1)`           | Maintains heap invariant |\n",
    "| **Pop smallest element**          | `heapq.heappop(heap)`                | `O(log n)`       | `O(1)`           | Removes root, then sifts down |\n",
    "| **Peek smallest element**         | `heap[0]`                            | `O(1)`           | `O(1)`           | No change to heap |\n",
    "| **Push then pop (optimized)**     | `heapq.heappushpop(heap, item)`      | `O(log n)`       | `O(1)`           | Inserts, then pops min — more efficient |\n",
    "| **Pop then push (replacement)**   | `heapq.heapreplace(heap, item)`      | `O(log n)`       | `O(1)`           | Replaces root with new item |\n",
    "| **k smallest elements**           | `heapq.nsmallest(k, iterable)`       | `O(n log k)`     | `O(k)`           | Internally uses a max-heap of size k |\n",
    "| **k largest elements**            | `heapq.nlargest(k, iterable)`        | `O(n log k)`     | `O(k)`           | Internally uses a min-heap of size k |\n",
    "\n",
    "### 🧠 Notes:\n",
    "- All heap operations are performed **in-place** (mutate the list).\n",
    "- `heapq` uses a **Min-Heap** by default.\n",
    "- There is **no Max-Heap support**, but you can simulate it using negation (`-item`).\n"
   ]
  },
  {
   "cell_type": "code",
   "execution_count": 13,
   "id": "f7f96056",
   "metadata": {},
   "outputs": [
    {
     "name": "stdout",
     "output_type": "stream",
     "text": [
      "Min Heap: [2, 5, 3, 7, 8]\n"
     ]
    }
   ],
   "source": [
    "import heapq\n",
    "\n",
    "heap = [5, 7, 3, 2, 8]\n",
    "heapq.heapify(heap) # Returns min-heap.\n",
    "print(f'Min Heap: {heap}')"
   ]
  },
  {
   "cell_type": "code",
   "execution_count": 14,
   "id": "59abfe33",
   "metadata": {},
   "outputs": [],
   "source": [
    "# Insert into heap.\n",
    "# heapq.heappush(heap, 1)\n",
    "# print(\"After push:\", heap)"
   ]
  },
  {
   "cell_type": "code",
   "execution_count": 15,
   "id": "97cc5433",
   "metadata": {},
   "outputs": [
    {
     "name": "stdout",
     "output_type": "stream",
     "text": [
      "Peek min: 2\n"
     ]
    }
   ],
   "source": [
    "# Remove min value from heap.\n",
    "# min_val = heapq.heappop(heap)\n",
    "# print(f\"Heap pop: {min_val}\")\n",
    "# print(f\"After removing element: {heap}\")\n",
    "print(\"Peek min:\", heap[0])\n"
   ]
  },
  {
   "cell_type": "code",
   "execution_count": 16,
   "id": "40223d93",
   "metadata": {},
   "outputs": [
    {
     "name": "stdout",
     "output_type": "stream",
     "text": [
      "Pushpop result: 0\n",
      "Heap after pushpop: [2, 5, 3, 7, 8]\n"
     ]
    }
   ],
   "source": [
    "# Pop and Push in One Go (heappushpop)\n",
    "# Push 0, then pop the smallest (0)\n",
    "result = heapq.heappushpop(heap, 0)\n",
    "print(\"Pushpop result:\", result)\n",
    "print(\"Heap after pushpop:\", heap)\n"
   ]
  },
  {
   "cell_type": "code",
   "execution_count": 17,
   "id": "6ab329aa",
   "metadata": {},
   "outputs": [
    {
     "name": "stdout",
     "output_type": "stream",
     "text": [
      "Replaced value: 2\n",
      "Heap after replace: [3, 5, 10, 7, 8]\n"
     ]
    }
   ],
   "source": [
    "# Pop smallest, then push 10 (more efficient than pop + push)\n",
    "replaced = heapq.heapreplace(heap, 10)\n",
    "print(\"Replaced value:\", replaced)\n",
    "print(\"Heap after replace:\", heap)\n"
   ]
  },
  {
   "cell_type": "code",
   "execution_count": 18,
   "id": "2a95802c",
   "metadata": {},
   "outputs": [
    {
     "name": "stdout",
     "output_type": "stream",
     "text": [
      "3 smallest: [3, 5, 7]\n",
      "3 largest: [10, 8, 7]\n"
     ]
    }
   ],
   "source": [
    "# These do NOT modify the original heap\n",
    "print(\"3 smallest:\", heapq.nsmallest(3, heap))\n",
    "print(\"3 largest:\", heapq.nlargest(3, heap))\n"
   ]
  },
  {
   "cell_type": "code",
   "execution_count": 19,
   "id": "3c196f10",
   "metadata": {},
   "outputs": [
    {
     "name": "stdout",
     "output_type": "stream",
     "text": [
      "[3, 5, 10, 7, 8]\n"
     ]
    }
   ],
   "source": [
    "print(heap)"
   ]
  },
  {
   "cell_type": "code",
   "execution_count": 20,
   "id": "1d273d39",
   "metadata": {},
   "outputs": [],
   "source": [
    "class Node:\n",
    "    def __init__(self, val):\n",
    "        self.val = val\n",
    "\n",
    "class TreeNode:\n",
    "    def __init__(self, val, left, right):\n",
    "        self.val = val\n",
    "        self.left = left\n",
    "        self.right = right"
   ]
  },
  {
   "cell_type": "code",
   "execution_count": 21,
   "id": "9e489806",
   "metadata": {},
   "outputs": [],
   "source": [
    "new_heap = [5, 7, 3, 2, 8]"
   ]
  },
  {
   "cell_type": "code",
   "execution_count": 22,
   "id": "484813ba",
   "metadata": {},
   "outputs": [],
   "source": [
    "class MinHeapStarterPack:\n",
    "    def __init__ (self, arr):\n",
    "        self.arr = arr\n",
    "    def sift_down(self, index, size):\n",
    "        smallest = index\n",
    "        left = 2 * index + 1\n",
    "        right = 2 * index + 2\n",
    "        \n",
    "        if left < size and self.arr[left] < self.arr[smallest]:\n",
    "            smallest = left\n",
    "        \n",
    "        if right < size and self.arr[right] < self.arr[smallest]:\n",
    "            smallest = right\n",
    "        \n",
    "        if smallest != index:\n",
    "            self.arr[smallest], self.arr[index] = self.arr[index], self.arr[smallest]\n",
    "            self.sift_down(smallest, size)\n",
    "            \n",
    "    def heapify(self):\n",
    "        size = len(self.arr)\n",
    "        for i in range((size - 2) // 2, -1, -1):\n",
    "            self.sift_down(i, size)\n",
    "            \n",
    "    def sift_up(self, index:int):\n",
    "        parent = (index - 1) // 2\n",
    "        while index > 0 and self.arr[index] < self.arr[parent]:\n",
    "            self.arr[index], self.arr[parent] = self.arr[parent], self.arr[index] # Bubbling up.\n",
    "            index = parent\n",
    "            parent = (index - 1) // 2\n",
    "            \n",
    "    \n",
    "    def addNode(self, new_node):\n",
    "        self.arr.append(new_node)\n",
    "        self.sift_up(len(self.arr) - 1)\n",
    "    \n",
    "    def extractNode(self):\n",
    "        if len(self.arr) == 0:\n",
    "            raise IndexError(\"Cannot extract from an empty heap\")\n",
    "        \n",
    "        root = self.arr[0]\n",
    "        \n",
    "        last_element = self.arr.pop()\n",
    "        \n",
    "        if self.arr:\n",
    "            self.arr[0] = last_element\n",
    "            self.sift_down(0, len(self.arr))\n",
    "        \n",
    "        return root\n"
   ]
  },
  {
   "cell_type": "code",
   "execution_count": null,
   "id": "39ddcb42",
   "metadata": {},
   "outputs": [],
   "source": [
    "\n",
    "class MaxHeapStarterPack:\n",
    "    def __init__(self, arr):\n",
    "        self.arr = arr"
   ]
  }
 ],
 "metadata": {
  "kernelspec": {
   "display_name": "python-dev-shahzaibse",
   "language": "python",
   "name": "python3"
  },
  "language_info": {
   "codemirror_mode": {
    "name": "ipython",
    "version": 3
   },
   "file_extension": ".py",
   "mimetype": "text/x-python",
   "name": "python",
   "nbconvert_exporter": "python",
   "pygments_lexer": "ipython3",
   "version": "3.12.2"
  }
 },
 "nbformat": 4,
 "nbformat_minor": 5
}
