{
 "cells": [
  {
   "cell_type": "code",
   "execution_count": 1,
   "metadata": {},
   "outputs": [],
   "source": [
    "from typing import Optional, Annotated, List, Dict, Any"
   ]
  },
  {
   "cell_type": "markdown",
   "metadata": {},
   "source": [
    "### **DFS Algorithem - Stack**"
   ]
  },
  {
   "cell_type": "code",
   "execution_count": 2,
   "metadata": {},
   "outputs": [
    {
     "data": {
      "text/plain": [
       "['1 -> 3', '1 -> 2 -> 5']"
      ]
     },
     "execution_count": 2,
     "metadata": {},
     "output_type": "execute_result"
    }
   ],
   "source": [
    "# Tree structure:\n",
    "#      1\n",
    "#     / \\\n",
    "#    2   3\n",
    "#     \\\n",
    "#      5\n",
    "\n",
    "# Definition of Tree Node.\n",
    "\n",
    "class TreeNode:\n",
    "    def __init__(self, val, left=None, right=None):\n",
    "        self.val = val\n",
    "        self.left = left\n",
    "        self.right = right\n",
    "\n",
    "class Solution:\n",
    "    def dfs(self, root:TreeNode):\n",
    "        stack = [(root, str(root.val))]\n",
    "        paths = []\n",
    "\n",
    "        while stack:\n",
    "            node, path = stack.pop() # Backtracking\n",
    "\n",
    "            if not node.left and not node.right:\n",
    "                paths.append(path)\n",
    "            \n",
    "            if node.left:\n",
    "                stack.append((node.left,f\"{path} -> {node.left.val}\"))\n",
    "\n",
    "            if node.right:\n",
    "                stack.append((node.right,f\"{path} -> {node.right.val}\"))\n",
    "\n",
    "        return paths\n",
    "\n",
    "\n",
    "root = TreeNode(1, \n",
    "                TreeNode(2, None, TreeNode(5)), \n",
    "                TreeNode(3, None, None))\n",
    "\n",
    "sol = Solution()\n",
    "sol.dfs(root)"
   ]
  },
  {
   "cell_type": "markdown",
   "metadata": {},
   "source": [
    "### **DFS - Directed Graph**"
   ]
  },
  {
   "cell_type": "code",
   "execution_count": 3,
   "metadata": {},
   "outputs": [],
   "source": [
    "# #     1\n",
    "# #    / \\\n",
    "# #   2   3\n",
    "# #  / \\    \\\n",
    "# # 4   5 -- 6\n",
    "\n",
    "# class Solution:\n",
    "#     def dfs(self, graph, start):\n",
    "#         stack = [start]\n",
    "#         visited = set()\n",
    "#         result = []\n",
    "\n",
    "#         while stack:\n",
    "#             node = stack.pop() # Backtracking.\n",
    "            \n",
    "#             if node not in visited:\n",
    "#                 visited.add(node)\n",
    "#                 result.append(node)\n",
    "\n",
    "#             for neighbour in graph[node]:\n",
    "#                     stack.append(neighbour)\n",
    "                    \n",
    "#         return result\n",
    "\n",
    "# # graph = {\n",
    "# #     1: [2, 3],    # 1 has directed edges to 2 and 3\n",
    "# #     2: [4, 5],    # 2 has directed edges to 4 and 5\n",
    "# #     3: [6],       # 3 has a directed edge to 6\n",
    "# #     4: [],        # 4 has no outgoing edges\n",
    "# #     5: [6],       # 5 has a directed edge to 6\n",
    "# #     6: []         # 6 has no outgoing edges\n",
    "# # }\n",
    "\n",
    "# graph = {\n",
    "#     0: [1, 2],\n",
    "#     1: [0, 3, 4],\n",
    "#     2: [0, 5],\n",
    "#     3: [1],\n",
    "#     4: [1],\n",
    "#     5: [2]\n",
    "# }\n",
    "\n",
    "# sol:Solution = Solution()\n",
    "# sol.dfs(graph, 0)\n"
   ]
  },
  {
   "cell_type": "markdown",
   "metadata": {},
   "source": [
    "## **Prefix Sum - Revision**"
   ]
  },
  {
   "cell_type": "markdown",
   "metadata": {},
   "source": [
    "### **Problem Statement:**\n",
    "Given an array of integers nums, compute the sum of elements between indices left and right (inclusive) efficiently multiple times."
   ]
  },
  {
   "cell_type": "code",
   "execution_count": 4,
   "metadata": {},
   "outputs": [
    {
     "name": "stdout",
     "output_type": "stream",
     "text": [
      "[1, 3, 6, 10, 15, 21]\n"
     ]
    },
    {
     "data": {
      "text/plain": [
       "9"
      ]
     },
     "execution_count": 4,
     "metadata": {},
     "output_type": "execute_result"
    }
   ],
   "source": [
    "## Formula: Sum(left,right)=prefix[right]−prefix[left−1]\n",
    "\n",
    "# Input: nums = [1, 2, 3, 4, 5, 6], i = 1, j = 3\n",
    "# Prefix Array: P = [1, 3, 6, 10, 15, 21] \n",
    "# Output: 9\n",
    "\n",
    "class Solution:\n",
    "    def __init__(self, nums: List[int]):\n",
    "        self.nums = nums\n",
    "        self.prefix = [0] * len(nums)\n",
    "        self.prefix[0] = nums[0]\n",
    "        for i in range(1, len(nums)):\n",
    "            self.prefix[i] = self.prefix[i - 1] + nums[i]\n",
    "        print(self.prefix)\n",
    "\n",
    "    def prefixSum(self, left: int, right: int) -> int:\n",
    "        return self.prefix[right] - self.prefix[left - 1]\n",
    "\n",
    "nums = [1, 2, 3, 4, 5, 6]\n",
    "sol = Solution(nums)\n",
    "sol.prefixSum(1, 3)"
   ]
  },
  {
   "cell_type": "markdown",
   "metadata": {},
   "source": [
    "### **Let's create a Tree**"
   ]
  },
  {
   "cell_type": "code",
   "execution_count": 5,
   "metadata": {},
   "outputs": [
    {
     "name": "stdout",
     "output_type": "stream",
     "text": [
      "    *\n",
      "   ***\n",
      "  *****\n",
      " *******\n",
      "*********\n",
      "    *    \n"
     ]
    }
   ],
   "source": [
    "#    *   \n",
    "#   ***  \n",
    "#  ***** \n",
    "# *******  \n",
    "#    *   \n",
    "\n",
    "# Formula: Width: (Height * 2) - 1\n",
    "class Solution:\n",
    "    def createTree(self, height:int):\n",
    "        max_width:int = (height * 2) - 1\n",
    "        for i in range(1, height + 1):\n",
    "            width = (i * 2) - 1\n",
    "            spaces = (max_width - width) // 2\n",
    "            print(\" \" * spaces + \"*\" * width)\n",
    "\n",
    "        trunk_spaces:int = (max_width - 1) // 2\n",
    "        print(\" \" * trunk_spaces + \"*\" + \" \" * trunk_spaces)\n",
    "\n",
    "\n",
    "sol:Solution = Solution()\n",
    "sol.createTree(5)"
   ]
  },
  {
   "cell_type": "markdown",
   "metadata": {},
   "source": [
    "### **Breath First Search | Tree - Revision**"
   ]
  },
  {
   "cell_type": "code",
   "execution_count": 6,
   "metadata": {},
   "outputs": [
    {
     "name": "stdout",
     "output_type": "stream",
     "text": [
      "['1 -> 3', '1 -> 2 -> 4 -> 5']\n"
     ]
    }
   ],
   "source": [
    "from collections import deque\n",
    "\n",
    "# Tree structure:\n",
    "#      1\n",
    "#     / \\\n",
    "#    2   3\n",
    "#   /\n",
    "#  4\n",
    "#   \\\n",
    "#    5\n",
    "\n",
    "class TreeNode:\n",
    "    def __init__(self, val, left=None, right=None):\n",
    "        self.val = val\n",
    "        self.left = left\n",
    "        self.right = right\n",
    "\n",
    "class Solution:\n",
    "    def bfs(self, root:TreeNode):\n",
    "        queue = deque([(root, str(root.val))])\n",
    "        paths = []\n",
    "        \n",
    "        while queue:\n",
    "            node, path = queue.popleft()\n",
    "\n",
    "            if not node.left and not node.right:\n",
    "                paths.append(path)\n",
    "            # Process left child if it exists\n",
    "            if node.left:\n",
    "                queue.append((node.left, f\"{path} -> {node.left.val}\"))\n",
    "                \n",
    "            # Process right child if it exists\n",
    "            if node.right:\n",
    "                queue.append((node.right, f\"{path} -> {node.right.val}\"))\n",
    "        \n",
    "        return paths\n",
    "\n",
    "sol = Solution()\n",
    "root = TreeNode(1, \n",
    "                TreeNode(2, TreeNode(4, None, TreeNode(5)), None), \n",
    "                TreeNode(3))\n",
    "\n",
    "print(sol.bfs(root))  # Expected output: ['1 -> 2 -> 4 -> 5', '1 -> 3']\n"
   ]
  },
  {
   "cell_type": "markdown",
   "metadata": {},
   "source": [
    "### **Breath First Search | Graph(Directed) - Revision**"
   ]
  },
  {
   "cell_type": "code",
   "execution_count": 7,
   "metadata": {},
   "outputs": [],
   "source": [
    "graph = {\n",
    "    1: [2, 3],    # 1 has directed edges to 2 and 3\n",
    "    2: [4, 5],    # 2 has directed edges to 4 and 5\n",
    "    3: [6],       # 3 has a directed edge to 6\n",
    "    4: [],        # 4 has no outgoing edges\n",
    "    5: [6],       # 5 has a directed edge to 6\n",
    "    6: []         # 6 has no outgoing edges\n",
    "}\n"
   ]
  },
  {
   "cell_type": "markdown",
   "metadata": {},
   "source": [
    "### **Merge Sort - Revision**\n",
    "\n",
    "# Merge Sort Algorithm 🔍\n",
    "\n",
    "Merge Sort is a **divide and conquer** sorting algorithm that **recursively** divides an array, sorts the subarrays, and then merges them back together.\n",
    "\n",
    "## 🔹 How Merge Sort Works\n",
    "Merge Sort follows three main steps:\n",
    "\n",
    "1. **Divide**  \n",
    "   - Recursively split the array into halves until each subarray contains only **one element**.\n",
    "\n",
    "2. **Conquer**  \n",
    "   - Sort the smaller subarrays while merging them in order.\n",
    "\n",
    "3. **Merge**  \n",
    "   - Combine the two sorted halves into a **single sorted array**.\n"
   ]
  },
  {
   "cell_type": "code",
   "execution_count": 8,
   "metadata": {},
   "outputs": [
    {
     "data": {
      "text/plain": [
       "[{'id': 1, 'name': 'John'},\n",
       " {'id': 2, 'name': 'Jane'},\n",
       " {'id': 3, 'name': 'Smith'},\n",
       " {'id': 4, 'name': 'Doe'},\n",
       " {'id': 20, 'name': 'Doe'},\n",
       " {'id': 25, 'name': 'Doe'}]"
      ]
     },
     "execution_count": 8,
     "metadata": {},
     "output_type": "execute_result"
    }
   ],
   "source": [
    "class Solution:\n",
    "    def merge_sort(self, collection:List[Any]):\n",
    "        n = len(collection)\n",
    "        \n",
    "        if n <= 1:\n",
    "            return collection\n",
    "        \n",
    "        mid = n // 2\n",
    "        \n",
    "        left:int = self.merge_sort(collection[:mid])\n",
    "        right:int = self.merge_sort(collection[mid:])\n",
    "        \n",
    "        return self.merge(left, right)\n",
    "    \n",
    "    def merge(self, left: List[Any], right:List[Any]):\n",
    "        sorted_collection = []\n",
    "        i, j = 0, 0\n",
    "        \n",
    "        while i < len(left) and j < len(right):\n",
    "            if left[i].get('id') < right[j].get('id'):\n",
    "                sorted_collection.append(left[i])\n",
    "                i += 1\n",
    "            else:\n",
    "                sorted_collection.append(right[j])\n",
    "                j += 1\n",
    "        \n",
    "        sorted_collection.extend(left[i:])\n",
    "        sorted_collection.extend(right[j:])\n",
    "        \n",
    "        return sorted_collection\n",
    "\n",
    "orders = [\n",
    "    {'id': 1, 'name': 'John'},\n",
    "    {'id': 4, 'name': 'Doe'},\n",
    "    {'id': 3, 'name': 'Smith'},\n",
    "    {'id': 2, 'name': 'Jane'},\n",
    "    {'id': 25, 'name': 'Doe'},\n",
    "    {'id': 20, 'name': 'Doe'},\n",
    "]        \n",
    "\n",
    "nums = [5, 2, 9, 1, 5, 6]\n",
    "sol:Solution = Solution()\n",
    "# sol.merge_sort(nums)\n",
    "sol.merge_sort(orders)"
   ]
  },
  {
   "cell_type": "markdown",
   "metadata": {},
   "source": [
    "# **🔍 Binary Search Algorithm**\n",
    "\n",
    "Binary Search is a **divide and conquer** algorithm used to efficiently find an element in a **sorted array** in `O(log n)` time.\n",
    "\n",
    "## **🔹 How Binary Search Works**\n",
    "1. **Initialize Two Pointers:**  \n",
    "   - `left` at the start (`0`), `right` at the end (`n-1`).\n",
    "   \n",
    "2. **Find the Middle Element:**  \n",
    "   - `mid = left + (right - left) // 2`\n",
    "   - If `nums[mid] == target`, return `mid`.\n",
    "   - If `nums[mid] < target`, search in the **right half**.\n",
    "   - If `nums[mid] > target`, search in the **left half**.\n",
    "\n",
    "3. **Repeat Until Found or `left > right`**  \n",
    "   - If `left > right`, the target **does not exist** in the array.\n",
    "\n",
    "## **📌 Example Breakdown**\n",
    "#### **Input:**\n",
    "```python\n",
    "nums = [1, 3, 5, 7, 9, 11, 15, 18]\n",
    "target = 7\n"
   ]
  },
  {
   "cell_type": "code",
   "execution_count": 9,
   "metadata": {},
   "outputs": [
    {
     "data": {
      "text/plain": [
       "(3, 7)"
      ]
     },
     "execution_count": 9,
     "metadata": {},
     "output_type": "execute_result"
    }
   ],
   "source": [
    "from typing import List\n",
    "\n",
    "class Solution:\n",
    "    def binary_search(self, collection:List[Any], target:int):\n",
    "        n:int = len(collection)\n",
    "        left, right = 0, n - 1\n",
    "        \n",
    "        \n",
    "        while left <= right:\n",
    "            mid = left + (right - left) // 2\n",
    "            if collection[mid] == target:\n",
    "                return (mid, collection[mid])\n",
    "            elif collection[mid] < target:\n",
    "                left = mid + 1\n",
    "            else:\n",
    "                right = mid - 1\n",
    "        \n",
    "        return -1\n",
    "        \n",
    "                \n",
    "    \n",
    "sol:Solution = Solution()\n",
    "sol.binary_search([1, 3, 5, 7, 9, 11, 15, 18], 7)"
   ]
  },
  {
   "cell_type": "markdown",
   "metadata": {},
   "source": [
    "### **Digit by digit Addition**"
   ]
  },
  {
   "cell_type": "code",
   "execution_count": 10,
   "metadata": {},
   "outputs": [
    {
     "data": {
      "text/plain": [
       "'533'"
      ]
     },
     "execution_count": 10,
     "metadata": {},
     "output_type": "execute_result"
    }
   ],
   "source": [
    "class Solution:\n",
    "    def digitButDigitAddition(self, num1: str, num2: str) -> str:\n",
    "        \n",
    "        carry:int = 0\n",
    "        result = []\n",
    "        \n",
    "        i, j = len(num1) - 1, len(num2) - 1\n",
    "        \n",
    "        while i >= 0 or j >= 0 or carry:\n",
    "          d1 = int(num1[i]) if i >= 0 else 0\n",
    "          d2 = int(num2[j]) if j >= 0 else 0\n",
    "          \n",
    "          total = d1 + d2 + carry\n",
    "          result.append(str(total % 10))\n",
    "          carry = total // 10\n",
    "          \n",
    "          \n",
    "          i -= 1\n",
    "          j -= 1\n",
    "        \n",
    "        return ''.join(result[::-1])\n",
    "        \n",
    "        \n",
    "            \n",
    "num1 = \"456\"\n",
    "num2 = \"77\"\n",
    "sol:Solution = Solution()\n",
    "sol.digitButDigitAddition(num1,num2)"
   ]
  },
  {
   "cell_type": "markdown",
   "metadata": {},
   "source": [
    "### **Kids in Hoot | Fast and Slow Pointers**"
   ]
  },
  {
   "cell_type": "code",
   "execution_count": 11,
   "metadata": {},
   "outputs": [
    {
     "data": {
      "text/plain": [
       "['A', 'C', 'E', 'B', 'D']"
      ]
     },
     "execution_count": 11,
     "metadata": {},
     "output_type": "execute_result"
    }
   ],
   "source": [
    "class Solution:\n",
    "    def checkHootSequence(self, children:List[int], k:int):\n",
    "        result = []\n",
    "        j = 0\n",
    "        \n",
    "        for i in range(len(children)):\n",
    "            result.append(children[j])\n",
    "            j = (j+k) % len(children)\n",
    "        \n",
    "        return result\n",
    "\n",
    "sol:Solution = Solution()\n",
    "kids = ['A', 'B', 'C', 'D', 'E']\n",
    "k = 2\n",
    "sol.checkHootSequence(kids, k)\n",
    "\n",
    "# To be continued to implement fast and slow pointer."
   ]
  },
  {
   "cell_type": "markdown",
   "metadata": {},
   "source": [
    "### **Traverse Matrix to Find Diagonals**"
   ]
  },
  {
   "cell_type": "code",
   "execution_count": 12,
   "metadata": {},
   "outputs": [
    {
     "data": {
      "text/plain": [
       "([1, 5, 9], [3, 5, 7])"
      ]
     },
     "execution_count": 12,
     "metadata": {},
     "output_type": "execute_result"
    }
   ],
   "source": [
    "from typing import List\n",
    "\n",
    "class Solution:\n",
    "    def checkDiagonal(self, matrix:List[List[int]]):\n",
    "        n:int = len(matrix)\n",
    "        result1  = []\n",
    "        result2 = []\n",
    "        for i in range(n):\n",
    "            # print(matrix[i][i])\n",
    "            # print(matrix[i][n - 1 - i])\n",
    "            \n",
    "            result1.append(matrix[i][i])\n",
    "            result2.append(matrix[i][n - 1 - i])\n",
    "        \n",
    "        return (result1, result2)\n",
    "            \n",
    "\n",
    "\"\"\"\n",
    "Step 1: matrix[0][0] - First element of first row\n",
    "Step 2: matrix[1][1] - Second element of Second row\n",
    "\"\"\"\n",
    "    \n",
    "matrix = [\n",
    "    [1, 2, 3],\n",
    "    [4, 5, 6],\n",
    "    [7, 8, 9]\n",
    "]\n",
    "\n",
    "sol:Solution = Solution()\n",
    "sol.checkDiagonal(matrix)"
   ]
  },
  {
   "cell_type": "markdown",
   "metadata": {},
   "source": [
    "### **102. Binary Tree Level Order Traversal - BFS**"
   ]
  },
  {
   "cell_type": "code",
   "execution_count": 13,
   "metadata": {},
   "outputs": [
    {
     "name": "stdout",
     "output_type": "stream",
     "text": [
      "Level Order Traversal (BFS):\n",
      "[[3], [9, 20], [15, 7]]\n"
     ]
    }
   ],
   "source": [
    "from collections import deque\n",
    "from typing import Optional\n",
    "# Definition for a binary tree node.\n",
    "class TreeNode:\n",
    "    def __init__(self, val=0, left=None, right=None):\n",
    "        self.val = val\n",
    "        self.left = left\n",
    "        self.right = right\n",
    "\n",
    "class Solution:\n",
    "    def levelOrder(self, root: Optional[TreeNode]) -> List[List[int]]:\n",
    "        if root is None:\n",
    "            return []\n",
    "            \n",
    "        q = deque([root])\n",
    "        result = []\n",
    "\n",
    "        while q:\n",
    "            length = len(q)\n",
    "            inner = []\n",
    "\n",
    "            for _ in range(length):\n",
    "                node = q.popleft()\n",
    "                inner.append(node.val)\n",
    "\n",
    "                if node.left:\n",
    "                    q.append(node.left)\n",
    "                \n",
    "                if node.right:\n",
    "                    q.append(node.right)\n",
    "            \n",
    "            result.append(inner)\n",
    "        \n",
    "        return result\n",
    "    \n",
    "# 🔧 Build tree from LeetCode input: [3, 9, 20, None, None, 15, 7]\n",
    "# Tree builder\n",
    "def build_test_tree():\n",
    "    node15 = TreeNode(15)\n",
    "    node7 = TreeNode(7)\n",
    "    node9 = TreeNode(9)\n",
    "    node20 = TreeNode(20, left=node15, right=node7)\n",
    "    root = TreeNode(3, left=node9, right=node20)\n",
    "    return root\n",
    "\n",
    "# 🚀 Run the test\n",
    "if __name__ == \"__main__\":\n",
    "    root = build_test_tree()\n",
    "    sol = Solution()\n",
    "    output = sol.levelOrder(root)\n",
    "    print(\"Level Order Traversal (BFS):\")\n",
    "    print(output)"
   ]
  },
  {
   "cell_type": "markdown",
   "metadata": {},
   "source": [
    "### **Binary Tree Traversal - DFS | Counter Part of Binary Tree Level Order Traversal**"
   ]
  },
  {
   "cell_type": "code",
   "execution_count": 14,
   "metadata": {},
   "outputs": [
    {
     "name": "stdout",
     "output_type": "stream",
     "text": [
      "Level Order Traversal (DFS with Stack):\n",
      "[[3], [9, 20], [15, 7]]\n"
     ]
    }
   ],
   "source": [
    "from collections import deque\n",
    "from typing import Optional\n",
    "# Definition for a binary tree node.\n",
    "class TreeNode:\n",
    "    def __init__(self, val=0, left=None, right=None):\n",
    "        self.val = val\n",
    "        self.left = left\n",
    "        self.right = right\n",
    "\n",
    "class Solution:\n",
    "    def depthTraversal(self, root:Optional[TreeNode]):\n",
    "        # Write code.\n",
    "        if root is None:\n",
    "            return []\n",
    "        \n",
    "        stack = [(root, 0)]\n",
    "        result = []\n",
    "        \n",
    "        while stack:\n",
    "            \n",
    "            node, level = stack.pop()\n",
    "            \n",
    "            if level == len(result):\n",
    "                result.append([])\n",
    "            \n",
    "            result[level].append(node.val)\n",
    "            \n",
    "            if node.right:\n",
    "                stack.append((node.right, level + 1))\n",
    "            \n",
    "            if node.left:\n",
    "                stack.append((node.left, level + 1))\n",
    "                \n",
    "                    \n",
    "        return result\n",
    "                \n",
    "                \n",
    "# 🔧 Build tree from LeetCode input: [3, 9, 20, None, None, 15, 7]\n",
    "def build_test_tree():\n",
    "    # Level 2\n",
    "    node15 = TreeNode(15)\n",
    "    node7 = TreeNode(7)\n",
    "\n",
    "    # Level 1\n",
    "    node9 = TreeNode(9)\n",
    "    node20 = TreeNode(20, left=node15, right=node7)\n",
    "\n",
    "    # Root\n",
    "    root = TreeNode(3, left=node9, right=node20)\n",
    "    return root\n",
    "\n",
    "# 🚀 Execute test\n",
    "if __name__ == \"__main__\":\n",
    "    root = build_test_tree()\n",
    "    sol = Solution()\n",
    "    output = sol.depthTraversal(root)\n",
    "    print(\"Level Order Traversal (DFS with Stack):\")\n",
    "    print(output)"
   ]
  },
  {
   "cell_type": "code",
   "execution_count": 15,
   "metadata": {},
   "outputs": [],
   "source": [
    "# nums = [1,2,3,4,5]\n",
    "\n",
    "# for _ in range(len(nums)):\n",
    "#     # print(_)\n",
    "#     pass\n",
    "\n",
    "# nums[6].append(100)\n",
    "# nums"
   ]
  },
  {
   "cell_type": "markdown",
   "metadata": {},
   "source": [
    "### **Two Sum - Leetcode**"
   ]
  },
  {
   "cell_type": "code",
   "execution_count": 16,
   "metadata": {},
   "outputs": [
    {
     "name": "stdout",
     "output_type": "stream",
     "text": [
      "Indices: [0, 1]\n"
     ]
    }
   ],
   "source": [
    "from typing import List\n",
    "\n",
    "class Solution:\n",
    "    def twoSum(self, nums: List[int], target):\n",
    "        \"\"\"\n",
    "        Finds two indices in the list such that the numbers at those indices add up to a given target.\n",
    "\n",
    "        Parameters:\n",
    "        nums (List[int]): A list of integers.\n",
    "\n",
    "        Returns:\n",
    "        List[int]: A list containing the indices of the two numbers that add up to the target.\n",
    "                   If no such pair exists, returns an empty list.\n",
    "        \"\"\"\n",
    "        hash_map = {} \n",
    "        n:int = len(nums)\n",
    "        \n",
    "        for i in range(n):\n",
    "            compliment = target - nums[i]\n",
    "            \n",
    "            if (compliment in hash_map) and (nums[hash_map[compliment]] + nums[i] == target):\n",
    "                return [hash_map[compliment],i]\n",
    "            \n",
    "            hash_map[nums[i]] = i\n",
    "        \n",
    "if __name__ == \"__main__\":\n",
    "    sol: Solution = Solution()\n",
    "    nums = [2, 7, 11, 15]\n",
    "    target = 9\n",
    "    result = sol.twoSum(nums, target)\n",
    "    print(\"Indices:\", result)  # Expected output: (1, 0)"
   ]
  },
  {
   "cell_type": "markdown",
   "metadata": {},
   "source": [
    "### **LeetCode no. 167 | Two Sum II - Input Array is Sorted**"
   ]
  },
  {
   "cell_type": "code",
   "execution_count": 17,
   "metadata": {},
   "outputs": [
    {
     "name": "stdout",
     "output_type": "stream",
     "text": [
      "Output: [1, 2]\n"
     ]
    }
   ],
   "source": [
    "from typing import List\n",
    "\n",
    "class Solution:\n",
    "    def twoSum(self, numbers: List[int], target: int) -> List[int]:\n",
    "        n:int = len(numbers)\n",
    "        left, right = 0, n - 1\n",
    "        \n",
    "        while left < right:\n",
    "            current_sum = numbers[left] + numbers[right]\n",
    "            \n",
    "            if current_sum == target:\n",
    "                return [left + 1, right + 1]\n",
    "            elif current_sum < target:\n",
    "                left += 1\n",
    "            else:\n",
    "                right -= 1\n",
    "            \n",
    "\n",
    "if __name__ == '__main__':\n",
    "    sol = Solution()\n",
    "    \n",
    "    # Sample Input: Sorted array\n",
    "    numbers = [2, 7, 11, 15]\n",
    "    target = 9\n",
    "\n",
    "    # Expected Output: Indices [1, 2] (1-based indexing)\n",
    "    print(\"Output:\", sol.twoSum(numbers, target))  # Should print: [1, 2]\n",
    "\n",
    "    "
   ]
  },
  {
   "cell_type": "markdown",
   "metadata": {},
   "source": [
    "### **Leatcode no. 643 | Maximum Subarray Average 1**"
   ]
  },
  {
   "cell_type": "code",
   "execution_count": 18,
   "metadata": {},
   "outputs": [
    {
     "name": "stdout",
     "output_type": "stream",
     "text": [
      "Max average of length 4 : 12.75\n"
     ]
    }
   ],
   "source": [
    "class Solution:\n",
    "    def findMaxAverage(self, nums: List[int], k: int) -> float:\n",
    "        n:int = len(nums)\n",
    "        window_sum:int = 0\n",
    "        max_sum: int = float('-inf')  # Use negative infinity for comparison\n",
    "        \n",
    "        for i in range(n):\n",
    "            window_sum += nums[i]\n",
    "\n",
    "            if i >= k - 1:\n",
    "                max_sum = max(max_sum, window_sum)\n",
    "                window_sum -= nums[i - k + 1]\n",
    "                    \n",
    "        return max_sum/k\n",
    "\n",
    "if __name__ == '__main__':\n",
    "    sol = Solution()\n",
    "    \n",
    "    nums = [1, 12, -5, -6, 50, 3]\n",
    "    k = 4\n",
    "\n",
    "    # Explanation:\n",
    "    # Subarrays of length 4:\n",
    "    # [1, 12, -5, -6] → sum = 2\n",
    "    # [12, -5, -6, 50] → sum = 51\n",
    "    # [-5, -6, 50, 3] → sum = 42\n",
    "    # Max avg = 51 / 4 = 12.75\n",
    "\n",
    "    result = sol.findMaxAverage(nums, k)\n",
    "    print(\"Max average of length\", k, \":\", result)  # Expected: 12.75\n"
   ]
  },
  {
   "cell_type": "code",
   "execution_count": 19,
   "metadata": {},
   "outputs": [
    {
     "name": "stdout",
     "output_type": "stream",
     "text": [
      "Max average of length 4 : 12.75\n"
     ]
    }
   ],
   "source": [
    "## Optimzed Sliding Window.\n",
    "\n",
    "class Solution:\n",
    "    def findMaxAverage(self, nums: List[int], k: int) -> float:\n",
    "        n:int = len(nums)\n",
    "        window_sum:int = sum(nums[:k])\n",
    "        max_sum: int = window_sum # Use negative infinity for comparison\n",
    "        \n",
    "        for i in range(k, n):\n",
    "            window_sum += nums[i] - nums[i - k]\n",
    "            max_sum = max(max_sum, window_sum)\n",
    "                    \n",
    "        return max_sum/k\n",
    "\n",
    "if __name__ == '__main__':\n",
    "    sol = Solution()\n",
    "    \n",
    "    nums = [1, 12, -5, -6, 50, 3]\n",
    "    k = 4\n",
    "\n",
    "    # Explanation:\n",
    "    # Subarrays of length 4:\n",
    "    # [1, 12, -5, -6] → sum = 2\n",
    "    # [12, -5, -6, 50] → sum = 51\n",
    "    # [-5, -6, 50, 3] → sum = 42\n",
    "    # Max avg = 51 / 4 = 12.75\n",
    "\n",
    "    result = sol.findMaxAverage(nums, k)\n",
    "    print(\"Max average of length\", k, \":\", result)  # Expected: 12.75\n"
   ]
  },
  {
   "cell_type": "code",
   "execution_count": 20,
   "metadata": {},
   "outputs": [
    {
     "data": {
      "text/plain": [
       "['*', '**', '***', '****', '*****', '******']"
      ]
     },
     "execution_count": 20,
     "metadata": {},
     "output_type": "execute_result"
    }
   ],
   "source": [
    "# Convert every number into '*' stars\n",
    "values = [1, 2, 3, 4, 5, 6]\n",
    "\n",
    "def num_to_star(n:int) -> str:\n",
    "    return '*' * n\n",
    "\n",
    "list(map(num_to_star, values))"
   ]
  }
 ],
 "metadata": {
  "kernelspec": {
   "display_name": "python-dev-shahzaibse",
   "language": "python",
   "name": "python3"
  },
  "language_info": {
   "codemirror_mode": {
    "name": "ipython",
    "version": 3
   },
   "file_extension": ".py",
   "mimetype": "text/x-python",
   "name": "python",
   "nbconvert_exporter": "python",
   "pygments_lexer": "ipython3",
   "version": "3.12.2"
  }
 },
 "nbformat": 4,
 "nbformat_minor": 2
}
