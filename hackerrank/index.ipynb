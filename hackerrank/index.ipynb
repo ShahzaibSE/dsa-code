{
 "cells": [
  {
   "cell_type": "markdown",
   "id": "63b0b0dc",
   "metadata": {},
   "source": [
    "### **Grading Students - Hackerrank**"
   ]
  },
  {
   "cell_type": "code",
   "execution_count": 12,
   "id": "6066b51a",
   "metadata": {},
   "outputs": [
    {
     "name": "stdout",
     "output_type": "stream",
     "text": [
      "[4, 75, 70, 38, 33]\n"
     ]
    }
   ],
   "source": [
    "#!/bin/python3\n",
    "\n",
    "import math\n",
    "import os\n",
    "import random\n",
    "import re\n",
    "import sys\n",
    "from typing import List\n",
    "\n",
    "#\n",
    "# Complete the 'gradingStudents' function below.\n",
    "#\n",
    "# The function is expected to return an INTEGER_ARRAY.\n",
    "# The function accepts INTEGER_ARRAY grades as parameter.\n",
    "#\n",
    "\n",
    "class Solution:\n",
    "    def gradingStudents(self, grades):\n",
    "        n:int = len(grades)\n",
    "        next_multiple:int = 0\n",
    "        difference_grade:int = 0\n",
    "        results:List[int] = []\n",
    "        \n",
    "        for i in range(n):\n",
    "            if grades[i] < 0 or grades[i] > 100:\n",
    "                return []\n",
    "            \n",
    "            # next_multiple = 5 * math.ceil((grades[i] + 1) / 5)\n",
    "            # difference_grade = abs(grades[i] - next_multiple)\n",
    "            \n",
    "            if grades[i] >= 38 and difference_grade < 3:\n",
    "                next_multiple = 5 * math.ceil((grades[i] + 1) / 5)\n",
    "                difference_grade = abs(grades[i] - next_multiple)\n",
    "                results.append(next_multiple)\n",
    "            else:\n",
    "                results.append(grades[i])\n",
    "                \n",
    "        \n",
    "        return results\n",
    "            \n",
    "            \n",
    "            \n",
    "            \n",
    "\n",
    "if __name__ == '__main__':\n",
    "    # fptr = open(os.environ['OUTPUT_PATH'], 'w')\n",
    "    sol:Solution = Solution()\n",
    "    result = sol.gradingStudents([4,73, 67, 38, 33])\n",
    "    print(result)  # Should print: [75, 67, 40, 33]\n"
   ]
  }
 ],
 "metadata": {
  "kernelspec": {
   "display_name": "python-dev-shahzaibse",
   "language": "python",
   "name": "python3"
  },
  "language_info": {
   "codemirror_mode": {
    "name": "ipython",
    "version": 3
   },
   "file_extension": ".py",
   "mimetype": "text/x-python",
   "name": "python",
   "nbconvert_exporter": "python",
   "pygments_lexer": "ipython3",
   "version": "3.12.2"
  }
 },
 "nbformat": 4,
 "nbformat_minor": 5
}
